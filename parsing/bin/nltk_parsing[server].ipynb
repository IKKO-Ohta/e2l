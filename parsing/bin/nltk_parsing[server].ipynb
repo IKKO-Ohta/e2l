{
 "cells": [
  {
   "cell_type": "markdown",
   "metadata": {},
   "source": [
    "# Penn parsing with nltk [server]\n",
    "## 目標\n",
    " 1. transition-parsing with RNN-LSTM[C.Dyer,2014]を実装する \n",
    " 2. RNNG[C.Dyer,2016]を実装する \n",
    "\n",
    "## 達成ライン\n",
    " - 機械学習におけるparsingの構造を把握する\n",
    " - ベースライン手法としてのnltk.arc-eagerの挙動を確認すること\n",
    " - testデータで目標精度が達成できるかどうかを検証する\n",
    "\n",
    "## リソース\n",
    " - Natural Language Toolkit http://www.nltk.org\n",
    " - Universal Dependency v2 http://universaldependencies.org\n",
    " - CoNLL 形式\n",
    "\n",
    "## insight\n",
    " - nltk.dependency_graph()はdot言語で書かれたグラフへのラッパーで、nltkでは基本的な情報形式\n",
    " - SVMの学習は時間的コストが意外と大きい[今後はローカルでやるべきでない]\n",
    " - NLTKはarc-eagerまでしかフォローしていない。1,2の内容はnltkの様式に沿って実装する方が再利用性が高く社会的に有用"
   ]
  },
  {
   "cell_type": "code",
   "execution_count": null,
   "metadata": {
    "collapsed": true
   },
   "outputs": [],
   "source": [
    "# -*- coding: utf-8 -*-\n",
    "import glob\n",
    "import sys\n",
    "import math"
   ]
  },
  {
   "cell_type": "code",
   "execution_count": null,
   "metadata": {
    "collapsed": true
   },
   "outputs": [],
   "source": [
    "import pandas as pd\n",
    "import numpy as np\n",
    "import nltk\n",
    "from nltk import corpus\n",
    "from nltk.parse import DependencyGraph, DependencyEvaluator\n",
    "from nltk.parse.transitionparser import TransitionParser, Configuration, Transition\n",
    "from nltk.corpus import conll2000, conll2002"
   ]
  },
  {
   "cell_type": "code",
   "execution_count": null,
   "metadata": {
    "collapsed": true
   },
   "outputs": [],
   "source": [
    "# nltk arc eager\n",
    "# 学習データは事前にsplit処理済み\n",
    "parser = nltk.TransitionParser(algorithm=\"arc-eager\")\n",
    "trains = glob.glob(\"../auto/univ_dep_train/*.txt\")\n",
    "tests  = glob.glob(\"../auto/univ_dep_test/*.txt\") \n",
    "trains_mini = trains[:1000]\n",
    "trains_mid = trains[:1001]"
   ]
  },
  {
   "cell_type": "code",
   "execution_count": null,
   "metadata": {
    "collapsed": false,
    "scrolled": false
   },
   "outputs": [],
   "source": [
    "# trainのサンプル\n",
    "S=\"\"\"\n",
    "1\tAl\tAl\tPROPN\tNNP\tNumber=Sing\t0\troot\t_\tSpaceAfter=No\n",
    "2\t-\t-\tPUNCT\tHYPH\t_\t1\tpunct\t_\tSpaceAfter=No\n",
    "3\tZaman\tZaman\tPROPN\tNNP\tNumber=Sing\t1\tflat\t_\t_\n",
    "4\t:\t:\tPUNCT\t:\t_\t1\tpunct\t_\t_\n",
    "5\tAmerican\tamerican\tADJ\tJJ\tDegree=Pos\t6\tamod\t_\t_\n",
    "6\tforces\tforce\tNOUN\tNNS\tNumber=Plur\t7\tnsubj\t_\t_\n",
    "7\tkilled\tkill\tVERB\tVBD\tMood=Ind|Tense=Past|VerbForm=Fin\t1\tparataxis\t_\t_\n",
    "8\tShaikh\tShaikh\tPROPN\tNNP\tNumber=Sing\t7\tobj\t_\t_\n",
    "9\tAbdullah\tAbdullah\tPROPN\tNNP\tNumber=Sing\t8\tflat\t_\t_\n",
    "10\tal\tal\tPROPN\tNNP\tNumber=Sing\t8\tflat\t_\tSpaceAfter=No\n",
    "11\t-\t-\tPUNCT\tHYPH\t_\t8\tpunct\t_\tSpaceAfter=No\n",
    "12\tAni\tAni\tPROPN\tNNP\tNumber=Sing\t8\tflat\t_\tSpaceAfter=No\n",
    "13\t,\t,\tPUNCT\t,\t_\t8\tpunct\t_\t_\n",
    "14\tthe\tthe\tDET\tDT\tDefinite=Def|PronType=Art\t15\tdet\t_\t_\n",
    "15\tpreacher\tpreacher\tNOUN\tNN\tNumber=Sing\t8\tappos\t_\t_\n",
    "16\tat\tat\tADP\tIN\t_\t18\tcase\t_\t_\n",
    "17\tthe\tthe\tDET\tDT\tDefinite=Def|PronType=Art\t18\tdet\t_\t_\n",
    "18\tmosque\tmosque\tNOUN\tNN\tNumber=Sing\t7\tobl\t_\t_\n",
    "19\tin\tin\tADP\tIN\t_\t21\tcase\t_\t_\n",
    "20\tthe\tthe\tDET\tDT\tDefinite=Def|PronType=Art\t21\tdet\t_\t_\n",
    "21\ttown\ttown\tNOUN\tNN\tNumber=Sing\t18\tnmod\t_\t_\n",
    "22\tof\tof\tADP\tIN\t_\t23\tcase\t_\t_\n",
    "23\tQaim\tQaim\tPROPN\tNNP\tNumber=Sing\t21\tnmod\t_\tSpaceAfter=No\n",
    "24\t,\t,\tPUNCT\t,\t_\t21\tpunct\t_\t_\n",
    "25\tnear\tnear\tADP\tIN\t_\t28\tcase\t_\t_\n",
    "26\tthe\tthe\tDET\tDT\tDefinite=Def|PronType=Art\t28\tdet\t_\t_\n",
    "27\tSyrian\tsyrian\tADJ\tJJ\tDegree=Pos\t28\tamod\t_\t_\n",
    "28\tborder\tborder\tNOUN\tNN\tNumber=Sing\t21\tnmod\t_\tSpaceAfter=No\n",
    "29\t.\t.\tPUNCT\t.\t_\t1\tpunct\t_\t_\n",
    "\"\"\"\n",
    "DependencyGraph(S)\n"
   ]
  },
  {
   "cell_type": "code",
   "execution_count": null,
   "metadata": {
    "collapsed": false
   },
   "outputs": [],
   "source": [
    "graphs = []\n",
    "for train in trains_mid:\n",
    "    with open(train,\"r\") as f:\n",
    "        graphs.append(DependencyGraph(f.read()))"
   ]
  },
  {
   "cell_type": "code",
   "execution_count": null,
   "metadata": {
    "collapsed": false,
    "scrolled": true
   },
   "outputs": [],
   "source": [
    "# => 内部に素性のインデックスを抱えている[重みは抱えていない]\n",
    "# => require:graphviz \n",
    "parser.train(graphs,\"../model/mid.md\")"
   ]
  },
  {
   "cell_type": "code",
   "execution_count": null,
   "metadata": {
    "collapsed": true
   },
   "outputs": [],
   "source": [
    "test_graphs = []\n",
    "for test in tests:\n",
    "    with open(test) as f:\n",
    "        test_graphs.append(DependencyGraph(f.read()))"
   ]
  },
  {
   "cell_type": "code",
   "execution_count": null,
   "metadata": {
    "collapsed": true,
    "scrolled": true
   },
   "outputs": [],
   "source": [
    "result = parser.parse(test_graphs,\"../model/full.md\")"
   ]
  },
  {
   "cell_type": "code",
   "execution_count": null,
   "metadata": {
    "collapsed": true
   },
   "outputs": [],
   "source": []
  }
 ],
 "metadata": {
  "anaconda-cloud": {},
  "kernelspec": {
   "display_name": "Python [default]",
   "language": "python",
   "name": "python3"
  },
  "language_info": {
   "codemirror_mode": {
    "name": "ipython",
    "version": 3
   },
   "file_extension": ".py",
   "mimetype": "text/x-python",
   "name": "python",
   "nbconvert_exporter": "python",
   "pygments_lexer": "ipython3",
   "version": "3.5.2"
  }
 },
 "nbformat": 4,
 "nbformat_minor": 2
}
